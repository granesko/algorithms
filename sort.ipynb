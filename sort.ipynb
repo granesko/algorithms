{
 "cells": [
  {
   "cell_type": "code",
   "execution_count": 133,
   "metadata": {},
   "outputs": [],
   "source": [
    "from random import randint\n",
    "import time"
   ]
  },
  {
   "cell_type": "code",
   "execution_count": 134,
   "metadata": {},
   "outputs": [],
   "source": [
    "def bubble(l):\n",
    "    swapped = True\n",
    "    while swapped:\n",
    "        swapped = False\n",
    "        for i in range(len(l)-1):\n",
    "            if l[i] > l[i+1]:\n",
    "                l[i], l[i+1] = l[i+1], l[i]\n",
    "                swapped = True\n",
    "                \n",
    "                \n"
   ]
  },
  {
   "cell_type": "code",
   "execution_count": 135,
   "metadata": {},
   "outputs": [
    {
     "name": "stdout",
     "output_type": "stream",
     "text": [
      "10000\n"
     ]
    }
   ],
   "source": [
    "l = [randint(-100000,100000) for i in range(10000)]\n",
    "print(len(l))"
   ]
  },
  {
   "cell_type": "code",
   "execution_count": 136,
   "metadata": {},
   "outputs": [
    {
     "name": "stdout",
     "output_type": "stream",
     "text": [
      "Время сортировки Bubble_sort:  12.2847\n"
     ]
    }
   ],
   "source": [
    "import time\n",
    "start_time = time.time()\n",
    "bubble(l)\n",
    "print('Время сортировки Bubble_sort: ','%0.4f'%(time.time() - start_time))"
   ]
  },
  {
   "cell_type": "code",
   "execution_count": 137,
   "metadata": {},
   "outputs": [],
   "source": [
    "def heapify(nums, heap_size, root_index):\n",
    "    # допустим, что индекс самого большого элемента является корневым индексом\n",
    "    largest = root_index\n",
    "    left_ch = (2*root_index) + 1\n",
    "    right_ch = (2*root_index) + 2\n",
    "    \n",
    "    if left_ch < heap_size and nums[left_ch] > nums[largest]:\n",
    "        largest = left_ch\n",
    "    if right_ch < heap_size and nums[right_ch] > nums[largest]:\n",
    "        largest = right_ch\n",
    "    \n",
    "    if largest != root_index:\n",
    "        nums[largest],nums[root_index] = nums[root_index],nums[largest]\n",
    "        \n",
    "        heapify(nums, heap_size, root_index)\n",
    "        \n",
    "def heap_sort(nums):\n",
    "    n = len(nums)\n",
    "    \n",
    "    for i in range(n,-1,-1):\n",
    "        heapify(nums,n,i)\n",
    "        \n",
    "    for i in range(n-1,0,-1):\n",
    "        nums[i],nums[0] = nums[0],nums[i]\n",
    "        heapify(nums,i,0)\n",
    "    "
   ]
  },
  {
   "cell_type": "code",
   "execution_count": 138,
   "metadata": {},
   "outputs": [
    {
     "name": "stdout",
     "output_type": "stream",
     "text": [
      "10000\n"
     ]
    }
   ],
   "source": [
    "l = [randint(-100000,100000) for i in range(10000)]\n",
    "print(len(l))"
   ]
  },
  {
   "cell_type": "code",
   "execution_count": 139,
   "metadata": {},
   "outputs": [
    {
     "name": "stdout",
     "output_type": "stream",
     "text": [
      "Время сортировки Heap_sort:  0.0100\n"
     ]
    }
   ],
   "source": [
    "start_time = time.time()\n",
    "heap_sort(l)\n",
    "print('Время сортировки Heap_sort: ','%0.4f'%(time.time() - start_time))"
   ]
  }
 ],
 "metadata": {
  "kernelspec": {
   "display_name": "Python 3",
   "language": "python",
   "name": "python3"
  },
  "language_info": {
   "codemirror_mode": {
    "name": "ipython",
    "version": 3
   },
   "file_extension": ".py",
   "mimetype": "text/x-python",
   "name": "python",
   "nbconvert_exporter": "python",
   "pygments_lexer": "ipython3",
   "version": "3.7.4"
  }
 },
 "nbformat": 4,
 "nbformat_minor": 2
}
